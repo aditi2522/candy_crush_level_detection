{
 "cells": [
  {
   "cell_type": "code",
   "execution_count": null,
   "metadata": {},
   "outputs": [],
   "source": [
    "import numpy as np\n",
    "import pandas as pd\n",
    "import matplotlib.pyplot as plt\n",
    "import dash\n",
    "import dash_core_components as dcc\n",
    "import plotly.graph_objects as go\n",
    "import plotly.express as px\n",
    "import dash_html_components as html\n",
    "from dash.dependencies import Input, Output"
   ]
  },
  {
   "cell_type": "code",
   "execution_count": null,
   "metadata": {},
   "outputs": [],
   "source": [
    "#loading Csv File or dataset\n",
    "data=pd.read_csv(\"C:\\\\users\\\\Aditi Gupta\\\\Desktop\\\\candy_crush.csv\")\n",
    "\n"
   ]
  },
  {
   "cell_type": "code",
   "execution_count": null,
   "metadata": {},
   "outputs": [],
   "source": [
    "#grouping the data on the basis of levels\n",
    "df= data.groupby('level').agg({\n",
    "    'num_attempts':'sum', \n",
    "    'num_success':'sum'}).assign(p_win= lambda g: g['num_success']/g['num_attempts'])\n",
    "df=df.reset_index()\n",
    "#difficulty.assign(p_win = 'num_success'/'num_attempts')\n",
    "#difficulty.assign(p_win= lambda g: g['num_success']/g['num_attempts'])\n",
    "\n"
   ]
  },
  {
   "cell_type": "code",
   "execution_count": null,
   "metadata": {},
   "outputs": [],
   "source": [
    "external_stylesheets = ['https://codepen.io/chriddyp/pen/bWLwgP.css']\n",
    "\n",
    "app = dash.Dash(__name__, external_stylesheets=external_stylesheets)\n",
    "\n",
    "app.layout = html.Div(children=[\n",
    "    html.H1(children='CANDY CRUSH SAGA LEVEL PREDICTION',style={'text-align':'center'}),\n",
    "    \n",
    "    html.Div(children='''\n",
    "        Candy Crush Saga is a hit mobile game developed by King (part of Activision|Blizzard) that is played by millions of people all around the world. The game is structured as a series of levels where players need to match similar candy together to (hopefully) clear the level and keep progressing on the level map. If you are one of the few that have never played candy crush then click on the link below\n",
    "    \n",
    "    '''),\n",
    "    \n",
    "    html.A(\"Click Here\", href='https://en.wikipedia.org/wiki/Candy_Crush_Saga', target=\"_blank\"),\n",
    "    \n",
    "    html.Div(''),\n",
    "    html.H3(children='About the project',style={'text-align':'left'}),\n",
    "    html.Div(children='''The project aims at determining the difficulty of levels of the famous game candy crush saga.\n",
    "    The dataset we will use contains one week of data from a sample of players who played Candy Crush back in 2014. The data is also from a single episode, that is, a set of 15 levels. It has the following columns:\\n\n",
    "    player_id: a unique player id \\n\n",
    "    dt: the date \\n\n",
    "    level: the level number within the episode, from 1 to 15.\\n\n",
    "    num_attempts: number of level attempts for the player on that level and date.\\n\n",
    "    num_success: number of level attempts that resulted in a success/win for the player on that level and date. \\n\n",
    "    The granularity of the dataset is player, date, and level. That is, there is a row for every player, day, and level recording the total number of attempts and how many of those resulted in a win.\n",
    "    To see the dataset completely click on the link below\n",
    "    '''),\n",
    "    html.A(\"Candy Crush dataset\", href='https://github.com/ryanschaub/Level-Difficulty-in-Candy-Crush-Saga/blob/master/candy_crush.csv', target=\"_blank\"),\n",
    "\n",
    "    html.H4('Difficulty VS Level',style={'text-align':'center'}),\n",
    "    html.Div(\n",
    "        dcc.Graph(\n",
    "        id='example-graph',\n",
    "        figure={\n",
    "            'data': [\n",
    "                {'x': df.level, 'y': df.p_win*100, 'type': 'Line'},\n",
    "                \n",
    "            ],\n",
    "            'layout': {\n",
    "                \n",
    "                'xaxis': {'title':'Levels'},\n",
    "                'yaxis':{'title':'Difficulty'}\n",
    "            }\n",
    "        }\n",
    "    )\n",
    "    ),\n",
    "    \n",
    "    html.H4('Hard Levels',style={'text-align':'center'}),\n",
    "    \n",
    "    \n",
    "    \n",
    "    \n",
    "    \n",
    "    \n",
    "], className=\"container\")\n",
    "\n",
    "\n",
    "\n",
    "\n",
    "    \n",
    "\n",
    "    \n",
    "\n",
    "\n",
    "if __name__ == '__main__':\n",
    "    app.run_server(debug=False)"
   ]
  },
  {
   "cell_type": "code",
   "execution_count": null,
   "metadata": {},
   "outputs": [],
   "source": []
  },
  {
   "cell_type": "code",
   "execution_count": null,
   "metadata": {},
   "outputs": [],
   "source": []
  }
 ],
 "metadata": {
  "kernelspec": {
   "display_name": "Python 3",
   "language": "python",
   "name": "python3"
  },
  "language_info": {
   "codemirror_mode": {
    "name": "ipython",
    "version": 3
   },
   "file_extension": ".py",
   "mimetype": "text/x-python",
   "name": "python",
   "nbconvert_exporter": "python",
   "pygments_lexer": "ipython3",
   "version": "3.7.6"
  }
 },
 "nbformat": 4,
 "nbformat_minor": 2
}

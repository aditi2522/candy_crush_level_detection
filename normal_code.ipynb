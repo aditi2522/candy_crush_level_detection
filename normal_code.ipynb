{
 "cells": [
  {
   "cell_type": "code",
   "execution_count": 1,
   "metadata": {},
   "outputs": [],
   "source": [
    "import numpy as np\n",
    "import pandas as pd\n",
    "import matplotlib.pyplot as plt\n"
   ]
  },
  {
   "cell_type": "code",
   "execution_count": 8,
   "metadata": {},
   "outputs": [
    {
     "data": {
      "text/html": [
       "<div>\n",
       "<style scoped>\n",
       "    .dataframe tbody tr th:only-of-type {\n",
       "        vertical-align: middle;\n",
       "    }\n",
       "\n",
       "    .dataframe tbody tr th {\n",
       "        vertical-align: top;\n",
       "    }\n",
       "\n",
       "    .dataframe thead th {\n",
       "        text-align: right;\n",
       "    }\n",
       "</style>\n",
       "<table border=\"1\" class=\"dataframe\">\n",
       "  <thead>\n",
       "    <tr style=\"text-align: right;\">\n",
       "      <th></th>\n",
       "      <th>level</th>\n",
       "      <th>num_attempts</th>\n",
       "      <th>num_success</th>\n",
       "    </tr>\n",
       "  </thead>\n",
       "  <tbody>\n",
       "    <tr>\n",
       "      <td>count</td>\n",
       "      <td>16865.000000</td>\n",
       "      <td>16865.000000</td>\n",
       "      <td>16865.000000</td>\n",
       "    </tr>\n",
       "    <tr>\n",
       "      <td>mean</td>\n",
       "      <td>9.287222</td>\n",
       "      <td>5.535428</td>\n",
       "      <td>0.627157</td>\n",
       "    </tr>\n",
       "    <tr>\n",
       "      <td>std</td>\n",
       "      <td>4.343477</td>\n",
       "      <td>7.322476</td>\n",
       "      <td>0.864708</td>\n",
       "    </tr>\n",
       "    <tr>\n",
       "      <td>min</td>\n",
       "      <td>1.000000</td>\n",
       "      <td>0.000000</td>\n",
       "      <td>0.000000</td>\n",
       "    </tr>\n",
       "    <tr>\n",
       "      <td>25%</td>\n",
       "      <td>6.000000</td>\n",
       "      <td>1.000000</td>\n",
       "      <td>0.000000</td>\n",
       "    </tr>\n",
       "    <tr>\n",
       "      <td>50%</td>\n",
       "      <td>9.000000</td>\n",
       "      <td>3.000000</td>\n",
       "      <td>1.000000</td>\n",
       "    </tr>\n",
       "    <tr>\n",
       "      <td>75%</td>\n",
       "      <td>14.000000</td>\n",
       "      <td>7.000000</td>\n",
       "      <td>1.000000</td>\n",
       "    </tr>\n",
       "    <tr>\n",
       "      <td>max</td>\n",
       "      <td>15.000000</td>\n",
       "      <td>258.000000</td>\n",
       "      <td>55.000000</td>\n",
       "    </tr>\n",
       "  </tbody>\n",
       "</table>\n",
       "</div>"
      ],
      "text/plain": [
       "              level  num_attempts   num_success\n",
       "count  16865.000000  16865.000000  16865.000000\n",
       "mean       9.287222      5.535428      0.627157\n",
       "std        4.343477      7.322476      0.864708\n",
       "min        1.000000      0.000000      0.000000\n",
       "25%        6.000000      1.000000      0.000000\n",
       "50%        9.000000      3.000000      1.000000\n",
       "75%       14.000000      7.000000      1.000000\n",
       "max       15.000000    258.000000     55.000000"
      ]
     },
     "execution_count": 8,
     "metadata": {},
     "output_type": "execute_result"
    }
   ],
   "source": [
    "#loading Csv File or dataset\n",
    "data=pd.read_csv(\"C:\\\\users\\\\Aditi Gupta\\\\Desktop\\\\candy_crush.csv\")\n",
    "data.describe()\n",
    "\n"
   ]
  },
  {
   "cell_type": "code",
   "execution_count": 4,
   "metadata": {},
   "outputs": [
    {
     "data": {
      "text/html": [
       "<div>\n",
       "<style scoped>\n",
       "    .dataframe tbody tr th:only-of-type {\n",
       "        vertical-align: middle;\n",
       "    }\n",
       "\n",
       "    .dataframe tbody tr th {\n",
       "        vertical-align: top;\n",
       "    }\n",
       "\n",
       "    .dataframe thead th {\n",
       "        text-align: right;\n",
       "    }\n",
       "</style>\n",
       "<table border=\"1\" class=\"dataframe\">\n",
       "  <thead>\n",
       "    <tr style=\"text-align: right;\">\n",
       "      <th></th>\n",
       "      <th>level</th>\n",
       "      <th>num_attempts</th>\n",
       "      <th>num_success</th>\n",
       "      <th>p_win</th>\n",
       "    </tr>\n",
       "  </thead>\n",
       "  <tbody>\n",
       "    <tr>\n",
       "      <td>0</td>\n",
       "      <td>1</td>\n",
       "      <td>1322</td>\n",
       "      <td>818</td>\n",
       "      <td>0.618759</td>\n",
       "    </tr>\n",
       "    <tr>\n",
       "      <td>1</td>\n",
       "      <td>2</td>\n",
       "      <td>1285</td>\n",
       "      <td>666</td>\n",
       "      <td>0.518288</td>\n",
       "    </tr>\n",
       "    <tr>\n",
       "      <td>2</td>\n",
       "      <td>3</td>\n",
       "      <td>1546</td>\n",
       "      <td>662</td>\n",
       "      <td>0.428202</td>\n",
       "    </tr>\n",
       "    <tr>\n",
       "      <td>3</td>\n",
       "      <td>4</td>\n",
       "      <td>1893</td>\n",
       "      <td>705</td>\n",
       "      <td>0.372425</td>\n",
       "    </tr>\n",
       "    <tr>\n",
       "      <td>4</td>\n",
       "      <td>5</td>\n",
       "      <td>6937</td>\n",
       "      <td>634</td>\n",
       "      <td>0.091394</td>\n",
       "    </tr>\n",
       "    <tr>\n",
       "      <td>5</td>\n",
       "      <td>6</td>\n",
       "      <td>1591</td>\n",
       "      <td>668</td>\n",
       "      <td>0.419862</td>\n",
       "    </tr>\n",
       "    <tr>\n",
       "      <td>6</td>\n",
       "      <td>7</td>\n",
       "      <td>4526</td>\n",
       "      <td>614</td>\n",
       "      <td>0.135661</td>\n",
       "    </tr>\n",
       "    <tr>\n",
       "      <td>7</td>\n",
       "      <td>8</td>\n",
       "      <td>15816</td>\n",
       "      <td>641</td>\n",
       "      <td>0.040529</td>\n",
       "    </tr>\n",
       "    <tr>\n",
       "      <td>8</td>\n",
       "      <td>9</td>\n",
       "      <td>8241</td>\n",
       "      <td>670</td>\n",
       "      <td>0.081301</td>\n",
       "    </tr>\n",
       "    <tr>\n",
       "      <td>9</td>\n",
       "      <td>10</td>\n",
       "      <td>3282</td>\n",
       "      <td>617</td>\n",
       "      <td>0.187995</td>\n",
       "    </tr>\n",
       "    <tr>\n",
       "      <td>10</td>\n",
       "      <td>11</td>\n",
       "      <td>5575</td>\n",
       "      <td>603</td>\n",
       "      <td>0.108161</td>\n",
       "    </tr>\n",
       "    <tr>\n",
       "      <td>11</td>\n",
       "      <td>12</td>\n",
       "      <td>6868</td>\n",
       "      <td>659</td>\n",
       "      <td>0.095952</td>\n",
       "    </tr>\n",
       "    <tr>\n",
       "      <td>12</td>\n",
       "      <td>13</td>\n",
       "      <td>1327</td>\n",
       "      <td>686</td>\n",
       "      <td>0.516956</td>\n",
       "    </tr>\n",
       "    <tr>\n",
       "      <td>13</td>\n",
       "      <td>14</td>\n",
       "      <td>2772</td>\n",
       "      <td>777</td>\n",
       "      <td>0.280303</td>\n",
       "    </tr>\n",
       "    <tr>\n",
       "      <td>14</td>\n",
       "      <td>15</td>\n",
       "      <td>30374</td>\n",
       "      <td>1157</td>\n",
       "      <td>0.038092</td>\n",
       "    </tr>\n",
       "  </tbody>\n",
       "</table>\n",
       "</div>"
      ],
      "text/plain": [
       "    level  num_attempts  num_success     p_win\n",
       "0       1          1322          818  0.618759\n",
       "1       2          1285          666  0.518288\n",
       "2       3          1546          662  0.428202\n",
       "3       4          1893          705  0.372425\n",
       "4       5          6937          634  0.091394\n",
       "5       6          1591          668  0.419862\n",
       "6       7          4526          614  0.135661\n",
       "7       8         15816          641  0.040529\n",
       "8       9          8241          670  0.081301\n",
       "9      10          3282          617  0.187995\n",
       "10     11          5575          603  0.108161\n",
       "11     12          6868          659  0.095952\n",
       "12     13          1327          686  0.516956\n",
       "13     14          2772          777  0.280303\n",
       "14     15         30374         1157  0.038092"
      ]
     },
     "execution_count": 4,
     "metadata": {},
     "output_type": "execute_result"
    }
   ],
   "source": [
    "df= data.groupby('level').agg({\n",
    "    'num_attempts':'sum', \n",
    "    'num_success':'sum'}).assign(p_win= lambda g: g['num_success']/g['num_attempts'])\n",
    "df=df.reset_index()\n",
    "#difficulty.assign(p_win = 'num_success'/'num_attempts')\n",
    "#difficulty.assign(p_win= lambda g: g['num_success']/g['num_attempts'])\n",
    "df\n"
   ]
  },
  {
   "cell_type": "code",
   "execution_count": 5,
   "metadata": {},
   "outputs": [
    {
     "data": {
      "image/png": "[encoded data removed]",
      "text/plain": [
       "<Figure size 432x288 with 1 Axes>"
      ]
     },
     "metadata": {
      "needs_background": "light"
     },
     "output_type": "display_data"
    }
   ],
   "source": [
    "plt.plot(df.level,df.p_win)\n",
    "plt.title(\"Level Difficulty\")\n",
    "plt.xlabel('Level')\n",
    "plt.ylabel(\"Probability of Winning Level\")\n",
    "plt.xticks(range(1, 16))\n",
    "plt.show()\n"
   ]
  },
  {
   "cell_type": "code",
   "execution_count": 6,
   "metadata": {},
   "outputs": [
    {
     "data": {
      "image/png": "[encoded data removed]",
      "text/plain": [
       "<Figure size 432x288 with 1 Axes>"
      ]
     },
     "metadata": {
      "needs_background": "light"
     },
     "output_type": "display_data"
    }
   ],
   "source": [
    "plt.plot(df.level,df.p_win,marker='o',color='b')\n",
    "plt.title(\"Level Difficulty\")\n",
    "plt.xlabel('Level')\n",
    "plt.ylabel(\"Probability of Winning Level\")\n",
    "plt.xticks(range(1, 16))\n",
    "plt.plot(marker='o', color='b')\n",
    "plt.axhline(y=0.1, color='r', linestyle='--')\n",
    "plt.show()\n"
   ]
  },
  {
   "cell_type": "code",
   "execution_count": 7,
   "metadata": {},
   "outputs": [
    {
     "data": {
      "text/html": [
       "<div>\n",
       "<style scoped>\n",
       "    .dataframe tbody tr th:only-of-type {\n",
       "        vertical-align: middle;\n",
       "    }\n",
       "\n",
       "    .dataframe tbody tr th {\n",
       "        vertical-align: top;\n",
       "    }\n",
       "\n",
       "    .dataframe thead th {\n",
       "        text-align: right;\n",
       "    }\n",
       "</style>\n",
       "<table border=\"1\" class=\"dataframe\">\n",
       "  <thead>\n",
       "    <tr style=\"text-align: right;\">\n",
       "      <th></th>\n",
       "      <th>level</th>\n",
       "      <th>num_attempts</th>\n",
       "      <th>num_success</th>\n",
       "      <th>p_win</th>\n",
       "      <th>error</th>\n",
       "    </tr>\n",
       "  </thead>\n",
       "  <tbody>\n",
       "    <tr>\n",
       "      <td>0</td>\n",
       "      <td>1</td>\n",
       "      <td>1322</td>\n",
       "      <td>818</td>\n",
       "      <td>0.618759</td>\n",
       "      <td>0.013358</td>\n",
       "    </tr>\n",
       "    <tr>\n",
       "      <td>1</td>\n",
       "      <td>2</td>\n",
       "      <td>1285</td>\n",
       "      <td>666</td>\n",
       "      <td>0.518288</td>\n",
       "      <td>0.013939</td>\n",
       "    </tr>\n",
       "    <tr>\n",
       "      <td>2</td>\n",
       "      <td>3</td>\n",
       "      <td>1546</td>\n",
       "      <td>662</td>\n",
       "      <td>0.428202</td>\n",
       "      <td>0.012585</td>\n",
       "    </tr>\n",
       "    <tr>\n",
       "      <td>3</td>\n",
       "      <td>4</td>\n",
       "      <td>1893</td>\n",
       "      <td>705</td>\n",
       "      <td>0.372425</td>\n",
       "      <td>0.011112</td>\n",
       "    </tr>\n",
       "    <tr>\n",
       "      <td>4</td>\n",
       "      <td>5</td>\n",
       "      <td>6937</td>\n",
       "      <td>634</td>\n",
       "      <td>0.091394</td>\n",
       "      <td>0.003460</td>\n",
       "    </tr>\n",
       "  </tbody>\n",
       "</table>\n",
       "</div>"
      ],
      "text/plain": [
       "   level  num_attempts  num_success     p_win     error\n",
       "0      1          1322          818  0.618759  0.013358\n",
       "1      2          1285          666  0.518288  0.013939\n",
       "2      3          1546          662  0.428202  0.012585\n",
       "3      4          1893          705  0.372425  0.011112\n",
       "4      5          6937          634  0.091394  0.003460"
      ]
     },
     "execution_count": 7,
     "metadata": {},
     "output_type": "execute_result"
    }
   ],
   "source": [
    "df = df.assign(error = lambda g: np.sqrt(g.p_win * (1 - g.p_win) / \n",
    "                                                g.num_attempts))\n",
    "df.head()\n"
   ]
  },
  {
   "cell_type": "code",
   "execution_count": 8,
   "metadata": {},
   "outputs": [
    {
     "data": {
      "image/png": "[encoded data removed]",
      "text/plain": [
       "<Figure size 432x288 with 1 Axes>"
      ]
     },
     "metadata": {
      "needs_background": "light"
     },
     "output_type": "display_data"
    }
   ],
   "source": [
    "plt.plot(df.level,df.p_win,marker='o',color='b',markersize=15)\n",
    "plt.title(\"Level Difficulty\")\n",
    "plt.xlabel('Level')\n",
    "plt.ylabel(\"Probability of Winning Level\")\n",
    "plt.xticks(range(1, 16))\n",
    "#plt.plot(marker='o', color='b')\n",
    "plt.axhline(y=0.1, color='r', linestyle='--')\n",
    "#ymin=df.p_win - df.error \n",
    "#ymax= df.p_win + df.error\n",
    "# plt.style.use('seaborn')\n",
    "# plt.rcParams.update({'lines.markeredgewidth': 1})\n",
    "#plt.errorbar(df.level,df.p_win,ymin,ymax,)\n",
    "plt.style.use('seaborn-whitegrid')\n",
    "plt.errorbar( df.level,df.p_win ,yerr=df.error,fmt='o', markersize=4, capsize=15,color='green')\n",
    "plt.show()\n"
   ]
  },
  {
   "cell_type": "code",
   "execution_count": 11,
   "metadata": {},
   "outputs": [
    {
     "data": {
      "text/plain": [
       "9.447140934486065e-12"
      ]
     },
     "execution_count": 11,
     "metadata": {},
     "output_type": "execute_result"
    }
   ],
   "source": [
    "p=np.prod(df.p_win)\n",
    "p\n"
   ]
  },
  {
   "cell_type": "code",
   "execution_count": null,
   "metadata": {},
   "outputs": [],
   "source": []
  }
 ],
 "metadata": {
  "kernelspec": {
   "display_name": "Python 3",
   "language": "python",
   "name": "python3"
  },
  "language_info": {
   "codemirror_mode": {
    "name": "ipython",
    "version": 3
   },
   "file_extension": ".py",
   "mimetype": "text/x-python",
   "name": "python",
   "nbconvert_exporter": "python",
   "pygments_lexer": "ipython3",
   "version": "3.7.4"
  }
 },
 "nbformat": 4,
 "nbformat_minor": 2
}
